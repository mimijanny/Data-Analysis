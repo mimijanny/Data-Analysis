{
 "cells": [
  {
   "cell_type": "markdown",
   "metadata": {},
   "source": [
    "# Project 2:  Holiday weather\n",
    "\n",
    "By Onyemma Mirian, updated 25th February, 2020\n",
    "\n",
    "This is the project notebook for the second part of The Open University's _Learn to code for Data Analysis_ course.\n",
    "\n",
    "In this project I'm going to use the historic weather data from the Weather Underground for Moscow to try to predict two good weather weeks to take off as holiday next summer. Of course the weather in the summer of 2018 may be very different to 2014 but it should give me some indication of when would be a good time to take a summer break.\n",
    "\n",
    "## Getting the data\n",
    "\n",
    "Weather Underground keeps historical weather data collected in many airports around the world. Right-click on the following URL and choose 'Open Link in New Window' (or similar, depending on your browser):\n",
    "\n",
    "http://www.wunderground.com/history\n",
    "\n",
    "When the new page opens start typing 'Moscow' in the 'Location' input box and when the pop up menu comes up with the option 'Moscow,Moscow'select it and then click on 'Submit'. \n",
    "\n",
    "When the next page opens with Moscow data, click on the 'Custom' tab and select the time period From: 1 January 2014 to: 31 December 2014 and then click on 'Get History'. The data for that year should then be displayed further down the page. \n",
    "\n",
    "You can copy each month's data directly from the browser to a text editor like Notepad or TextEdit, to obtain a single file with as many months as you wish.\n",
    "\n",
    "Weather Underground has changed in the past the way it provides data and may do so again in the future. \n",
    "I have therefore collated the whole 2014 data in the provided 'Moscow_SVO_2014.csv' file. \n",
    "\n",
    "Now load the CSV file into a dataframe making sure that any extra spaces are skipped:"
   ]
  },
  {
   "cell_type": "code",
   "execution_count": 1,
   "metadata": {},
   "outputs": [
    {
     "data": {
      "text/html": [
       "<div>\n",
       "<style scoped>\n",
       "    .dataframe tbody tr th:only-of-type {\n",
       "        vertical-align: middle;\n",
       "    }\n",
       "\n",
       "    .dataframe tbody tr th {\n",
       "        vertical-align: top;\n",
       "    }\n",
       "\n",
       "    .dataframe thead th {\n",
       "        text-align: right;\n",
       "    }\n",
       "</style>\n",
       "<table border=\"1\" class=\"dataframe\">\n",
       "  <thead>\n",
       "    <tr style=\"text-align: right;\">\n",
       "      <th></th>\n",
       "      <th>Date</th>\n",
       "      <th>Max TemperatureC</th>\n",
       "      <th>Mean TemperatureC</th>\n",
       "      <th>Min TemperatureC</th>\n",
       "      <th>Dew PointC</th>\n",
       "      <th>MeanDew PointC</th>\n",
       "      <th>Min DewpointC</th>\n",
       "      <th>Max Humidity</th>\n",
       "      <th>Mean Humidity</th>\n",
       "      <th>Min Humidity</th>\n",
       "      <th>...</th>\n",
       "      <th>Max VisibilityKm</th>\n",
       "      <th>Mean VisibilityKm</th>\n",
       "      <th>Min VisibilitykM</th>\n",
       "      <th>Max Wind SpeedKm/h</th>\n",
       "      <th>Mean Wind SpeedKm/h</th>\n",
       "      <th>Max Gust SpeedKm/h</th>\n",
       "      <th>Precipitationmm</th>\n",
       "      <th>CloudCover</th>\n",
       "      <th>Events</th>\n",
       "      <th>WindDirDegrees&lt;br /&gt;</th>\n",
       "    </tr>\n",
       "  </thead>\n",
       "  <tbody>\n",
       "    <tr>\n",
       "      <td>0</td>\n",
       "      <td>2014-1-1</td>\n",
       "      <td>1</td>\n",
       "      <td>-1</td>\n",
       "      <td>-2</td>\n",
       "      <td>-2</td>\n",
       "      <td>-3</td>\n",
       "      <td>-5</td>\n",
       "      <td>87</td>\n",
       "      <td>81</td>\n",
       "      <td>75</td>\n",
       "      <td>...</td>\n",
       "      <td>10.0</td>\n",
       "      <td>10.0</td>\n",
       "      <td>10.0</td>\n",
       "      <td>21</td>\n",
       "      <td>14</td>\n",
       "      <td>NaN</td>\n",
       "      <td>0.0</td>\n",
       "      <td>8.0</td>\n",
       "      <td>NaN</td>\n",
       "      <td>227&lt;br /&gt;</td>\n",
       "    </tr>\n",
       "    <tr>\n",
       "      <td>1</td>\n",
       "      <td>2014-1-2</td>\n",
       "      <td>-2</td>\n",
       "      <td>-3</td>\n",
       "      <td>-5</td>\n",
       "      <td>-4</td>\n",
       "      <td>-5</td>\n",
       "      <td>-6</td>\n",
       "      <td>93</td>\n",
       "      <td>87</td>\n",
       "      <td>80</td>\n",
       "      <td>...</td>\n",
       "      <td>10.0</td>\n",
       "      <td>10.0</td>\n",
       "      <td>10.0</td>\n",
       "      <td>18</td>\n",
       "      <td>13</td>\n",
       "      <td>NaN</td>\n",
       "      <td>0.0</td>\n",
       "      <td>8.0</td>\n",
       "      <td>NaN</td>\n",
       "      <td>200&lt;br /&gt;</td>\n",
       "    </tr>\n",
       "    <tr>\n",
       "      <td>2</td>\n",
       "      <td>2014-1-3</td>\n",
       "      <td>-1</td>\n",
       "      <td>-3</td>\n",
       "      <td>-4</td>\n",
       "      <td>-2</td>\n",
       "      <td>-4</td>\n",
       "      <td>-6</td>\n",
       "      <td>100</td>\n",
       "      <td>89</td>\n",
       "      <td>80</td>\n",
       "      <td>...</td>\n",
       "      <td>10.0</td>\n",
       "      <td>7.0</td>\n",
       "      <td>3.0</td>\n",
       "      <td>21</td>\n",
       "      <td>11</td>\n",
       "      <td>32.0</td>\n",
       "      <td>0.0</td>\n",
       "      <td>8.0</td>\n",
       "      <td>Snow</td>\n",
       "      <td>134&lt;br /&gt;</td>\n",
       "    </tr>\n",
       "    <tr>\n",
       "      <td>3</td>\n",
       "      <td>2014-1-4</td>\n",
       "      <td>-1</td>\n",
       "      <td>-2</td>\n",
       "      <td>-2</td>\n",
       "      <td>-3</td>\n",
       "      <td>-4</td>\n",
       "      <td>-5</td>\n",
       "      <td>93</td>\n",
       "      <td>85</td>\n",
       "      <td>80</td>\n",
       "      <td>...</td>\n",
       "      <td>10.0</td>\n",
       "      <td>6.0</td>\n",
       "      <td>3.0</td>\n",
       "      <td>18</td>\n",
       "      <td>13</td>\n",
       "      <td>32.0</td>\n",
       "      <td>0.0</td>\n",
       "      <td>8.0</td>\n",
       "      <td>Snow</td>\n",
       "      <td>157&lt;br /&gt;</td>\n",
       "    </tr>\n",
       "    <tr>\n",
       "      <td>4</td>\n",
       "      <td>2014-1-5</td>\n",
       "      <td>1</td>\n",
       "      <td>0</td>\n",
       "      <td>-1</td>\n",
       "      <td>1</td>\n",
       "      <td>-1</td>\n",
       "      <td>-3</td>\n",
       "      <td>100</td>\n",
       "      <td>93</td>\n",
       "      <td>81</td>\n",
       "      <td>...</td>\n",
       "      <td>10.0</td>\n",
       "      <td>6.0</td>\n",
       "      <td>1.0</td>\n",
       "      <td>26</td>\n",
       "      <td>16</td>\n",
       "      <td>NaN</td>\n",
       "      <td>0.0</td>\n",
       "      <td>8.0</td>\n",
       "      <td>Snow</td>\n",
       "      <td>195&lt;br /&gt;</td>\n",
       "    </tr>\n",
       "    <tr>\n",
       "      <td>...</td>\n",
       "      <td>...</td>\n",
       "      <td>...</td>\n",
       "      <td>...</td>\n",
       "      <td>...</td>\n",
       "      <td>...</td>\n",
       "      <td>...</td>\n",
       "      <td>...</td>\n",
       "      <td>...</td>\n",
       "      <td>...</td>\n",
       "      <td>...</td>\n",
       "      <td>...</td>\n",
       "      <td>...</td>\n",
       "      <td>...</td>\n",
       "      <td>...</td>\n",
       "      <td>...</td>\n",
       "      <td>...</td>\n",
       "      <td>...</td>\n",
       "      <td>...</td>\n",
       "      <td>...</td>\n",
       "      <td>...</td>\n",
       "      <td>...</td>\n",
       "    </tr>\n",
       "    <tr>\n",
       "      <td>360</td>\n",
       "      <td>2014-12-27</td>\n",
       "      <td>-7</td>\n",
       "      <td>-9</td>\n",
       "      <td>-13</td>\n",
       "      <td>-8</td>\n",
       "      <td>-9</td>\n",
       "      <td>-14</td>\n",
       "      <td>93</td>\n",
       "      <td>91</td>\n",
       "      <td>80</td>\n",
       "      <td>...</td>\n",
       "      <td>10.0</td>\n",
       "      <td>10.0</td>\n",
       "      <td>8.0</td>\n",
       "      <td>26</td>\n",
       "      <td>19</td>\n",
       "      <td>43.0</td>\n",
       "      <td>0.0</td>\n",
       "      <td>7.0</td>\n",
       "      <td>NaN</td>\n",
       "      <td>224&lt;br /&gt;</td>\n",
       "    </tr>\n",
       "    <tr>\n",
       "      <td>361</td>\n",
       "      <td>2014-12-28</td>\n",
       "      <td>-10</td>\n",
       "      <td>-12</td>\n",
       "      <td>-15</td>\n",
       "      <td>-11</td>\n",
       "      <td>-13</td>\n",
       "      <td>-16</td>\n",
       "      <td>93</td>\n",
       "      <td>92</td>\n",
       "      <td>85</td>\n",
       "      <td>...</td>\n",
       "      <td>10.0</td>\n",
       "      <td>7.0</td>\n",
       "      <td>0.0</td>\n",
       "      <td>18</td>\n",
       "      <td>8</td>\n",
       "      <td>NaN</td>\n",
       "      <td>0.0</td>\n",
       "      <td>7.0</td>\n",
       "      <td>Fog-Snow</td>\n",
       "      <td>36&lt;br /&gt;</td>\n",
       "    </tr>\n",
       "    <tr>\n",
       "      <td>362</td>\n",
       "      <td>2014-12-29</td>\n",
       "      <td>-12</td>\n",
       "      <td>-14</td>\n",
       "      <td>-17</td>\n",
       "      <td>-13</td>\n",
       "      <td>-17</td>\n",
       "      <td>-19</td>\n",
       "      <td>92</td>\n",
       "      <td>87</td>\n",
       "      <td>78</td>\n",
       "      <td>...</td>\n",
       "      <td>10.0</td>\n",
       "      <td>10.0</td>\n",
       "      <td>9.0</td>\n",
       "      <td>18</td>\n",
       "      <td>13</td>\n",
       "      <td>NaN</td>\n",
       "      <td>0.0</td>\n",
       "      <td>7.0</td>\n",
       "      <td>Snow</td>\n",
       "      <td>306&lt;br /&gt;</td>\n",
       "    </tr>\n",
       "    <tr>\n",
       "      <td>363</td>\n",
       "      <td>2014-12-30</td>\n",
       "      <td>-15</td>\n",
       "      <td>-17</td>\n",
       "      <td>-18</td>\n",
       "      <td>-17</td>\n",
       "      <td>-18</td>\n",
       "      <td>-20</td>\n",
       "      <td>92</td>\n",
       "      <td>86</td>\n",
       "      <td>85</td>\n",
       "      <td>...</td>\n",
       "      <td>10.0</td>\n",
       "      <td>10.0</td>\n",
       "      <td>9.0</td>\n",
       "      <td>21</td>\n",
       "      <td>14</td>\n",
       "      <td>40.0</td>\n",
       "      <td>0.0</td>\n",
       "      <td>4.0</td>\n",
       "      <td>NaN</td>\n",
       "      <td>320&lt;br /&gt;</td>\n",
       "    </tr>\n",
       "    <tr>\n",
       "      <td>364</td>\n",
       "      <td>2014-12-31</td>\n",
       "      <td>-7</td>\n",
       "      <td>-14</td>\n",
       "      <td>-22</td>\n",
       "      <td>-8</td>\n",
       "      <td>-16</td>\n",
       "      <td>-24</td>\n",
       "      <td>93</td>\n",
       "      <td>87</td>\n",
       "      <td>78</td>\n",
       "      <td>...</td>\n",
       "      <td>10.0</td>\n",
       "      <td>6.0</td>\n",
       "      <td>2.0</td>\n",
       "      <td>32</td>\n",
       "      <td>16</td>\n",
       "      <td>35.0</td>\n",
       "      <td>0.0</td>\n",
       "      <td>7.0</td>\n",
       "      <td>Snow</td>\n",
       "      <td>221&lt;br /&gt;</td>\n",
       "    </tr>\n",
       "  </tbody>\n",
       "</table>\n",
       "<p>365 rows × 23 columns</p>\n",
       "</div>"
      ],
      "text/plain": [
       "           Date  Max TemperatureC  Mean TemperatureC  Min TemperatureC  \\\n",
       "0      2014-1-1                 1                 -1                -2   \n",
       "1      2014-1-2                -2                 -3                -5   \n",
       "2      2014-1-3                -1                 -3                -4   \n",
       "3      2014-1-4                -1                 -2                -2   \n",
       "4      2014-1-5                 1                  0                -1   \n",
       "..          ...               ...                ...               ...   \n",
       "360  2014-12-27                -7                 -9               -13   \n",
       "361  2014-12-28               -10                -12               -15   \n",
       "362  2014-12-29               -12                -14               -17   \n",
       "363  2014-12-30               -15                -17               -18   \n",
       "364  2014-12-31                -7                -14               -22   \n",
       "\n",
       "     Dew PointC  MeanDew PointC  Min DewpointC  Max Humidity  Mean Humidity  \\\n",
       "0            -2              -3             -5            87             81   \n",
       "1            -4              -5             -6            93             87   \n",
       "2            -2              -4             -6           100             89   \n",
       "3            -3              -4             -5            93             85   \n",
       "4             1              -1             -3           100             93   \n",
       "..          ...             ...            ...           ...            ...   \n",
       "360          -8              -9            -14            93             91   \n",
       "361         -11             -13            -16            93             92   \n",
       "362         -13             -17            -19            92             87   \n",
       "363         -17             -18            -20            92             86   \n",
       "364          -8             -16            -24            93             87   \n",
       "\n",
       "     Min Humidity  ...  Max VisibilityKm  Mean VisibilityKm  Min VisibilitykM  \\\n",
       "0              75  ...              10.0               10.0              10.0   \n",
       "1              80  ...              10.0               10.0              10.0   \n",
       "2              80  ...              10.0                7.0               3.0   \n",
       "3              80  ...              10.0                6.0               3.0   \n",
       "4              81  ...              10.0                6.0               1.0   \n",
       "..            ...  ...               ...                ...               ...   \n",
       "360            80  ...              10.0               10.0               8.0   \n",
       "361            85  ...              10.0                7.0               0.0   \n",
       "362            78  ...              10.0               10.0               9.0   \n",
       "363            85  ...              10.0               10.0               9.0   \n",
       "364            78  ...              10.0                6.0               2.0   \n",
       "\n",
       "     Max Wind SpeedKm/h  Mean Wind SpeedKm/h  Max Gust SpeedKm/h  \\\n",
       "0                    21                   14                 NaN   \n",
       "1                    18                   13                 NaN   \n",
       "2                    21                   11                32.0   \n",
       "3                    18                   13                32.0   \n",
       "4                    26                   16                 NaN   \n",
       "..                  ...                  ...                 ...   \n",
       "360                  26                   19                43.0   \n",
       "361                  18                    8                 NaN   \n",
       "362                  18                   13                 NaN   \n",
       "363                  21                   14                40.0   \n",
       "364                  32                   16                35.0   \n",
       "\n",
       "     Precipitationmm  CloudCover    Events  WindDirDegrees<br />  \n",
       "0                0.0         8.0       NaN             227<br />  \n",
       "1                0.0         8.0       NaN             200<br />  \n",
       "2                0.0         8.0      Snow             134<br />  \n",
       "3                0.0         8.0      Snow             157<br />  \n",
       "4                0.0         8.0      Snow             195<br />  \n",
       "..               ...         ...       ...                   ...  \n",
       "360              0.0         7.0       NaN             224<br />  \n",
       "361              0.0         7.0  Fog-Snow              36<br />  \n",
       "362              0.0         7.0      Snow             306<br />  \n",
       "363              0.0         4.0       NaN             320<br />  \n",
       "364              0.0         7.0      Snow             221<br />  \n",
       "\n",
       "[365 rows x 23 columns]"
      ]
     },
     "execution_count": 1,
     "metadata": {},
     "output_type": "execute_result"
    }
   ],
   "source": [
    "import warnings\n",
    "warnings.simplefilter('ignore', FutureWarning)\n",
    "\n",
    "from pandas import *\n",
    "moscow = read_csv('Moscow_SVO_2014.csv', skipinitialspace=True)\n",
    "moscow"
   ]
  },
  {
   "cell_type": "markdown",
   "metadata": {},
   "source": [
    "## Cleaning the data\n",
    "First we need to clean up the data. we'll rename `'WindDirDegrees< br />'` to `'WindDirDegrees'`. "
   ]
  },
  {
   "cell_type": "code",
   "execution_count": 2,
   "metadata": {},
   "outputs": [],
   "source": [
    "moscow = moscow.rename(columns={'WindDirDegrees<br />' : 'WindDirDegrees'})"
   ]
  },
  {
   "cell_type": "markdown",
   "metadata": {},
   "source": [
    "remove the  `< br />`  html line breaks from the values in the `'WindDirDegrees'` column. "
   ]
  },
  {
   "cell_type": "code",
   "execution_count": 3,
   "metadata": {},
   "outputs": [],
   "source": [
    "moscow['WindDirDegrees'] = moscow['WindDirDegrees'].str.rstrip('<br />')"
   ]
  },
  {
   "cell_type": "markdown",
   "metadata": {},
   "source": [
    "and change the values in the `'WindDirDegrees'` column to `float64`:"
   ]
  },
  {
   "cell_type": "code",
   "execution_count": 4,
   "metadata": {},
   "outputs": [],
   "source": [
    "moscow['WindDirDegrees'] = moscow['WindDirDegrees'].astype('float64')   "
   ]
  },
  {
   "cell_type": "markdown",
   "metadata": {},
   "source": [
    "We definitely need to change the values in the 'Date' column into values of the `datetime64`  date type."
   ]
  },
  {
   "cell_type": "code",
   "execution_count": 5,
   "metadata": {},
   "outputs": [],
   "source": [
    "moscow['Date'] = to_datetime(moscow['Date'])"
   ]
  },
  {
   "cell_type": "markdown",
   "metadata": {},
   "source": [
    "We also need to change the index from the default to the `datetime64` values in the 'Date' column so that it is easier to pull out rows between particular dates and display more meaningful graphs: "
   ]
  },
  {
   "cell_type": "code",
   "execution_count": 6,
   "metadata": {},
   "outputs": [],
   "source": [
    "moscow.index = moscow['Date']"
   ]
  },
  {
   "cell_type": "markdown",
   "metadata": {},
   "source": [
    "## Finding a summer break\n",
    "\n",
    "According to meteorologists, summer extends for the whole months of June, July, and August in the northern hemisphere and the whole months of December, January, and February in the southern hemisphere. So as Russia is in the northern hemisphere I'm going to create a dataframe that holds just those three months using the `datetime` index, like this:"
   ]
  },
  {
   "cell_type": "code",
   "execution_count": 7,
   "metadata": {},
   "outputs": [],
   "source": [
    "summer = moscow.loc[datetime(2014,6,1) : datetime(2014,8,31)]"
   ]
  },
  {
   "cell_type": "markdown",
   "metadata": {},
   "source": [
    "I now look for the days with warm temperatures."
   ]
  },
  {
   "cell_type": "code",
   "execution_count": 8,
   "metadata": {},
   "outputs": [
    {
     "data": {
      "text/html": [
       "<div>\n",
       "<style scoped>\n",
       "    .dataframe tbody tr th:only-of-type {\n",
       "        vertical-align: middle;\n",
       "    }\n",
       "\n",
       "    .dataframe tbody tr th {\n",
       "        vertical-align: top;\n",
       "    }\n",
       "\n",
       "    .dataframe thead th {\n",
       "        text-align: right;\n",
       "    }\n",
       "</style>\n",
       "<table border=\"1\" class=\"dataframe\">\n",
       "  <thead>\n",
       "    <tr style=\"text-align: right;\">\n",
       "      <th></th>\n",
       "      <th>Date</th>\n",
       "      <th>Max TemperatureC</th>\n",
       "      <th>Mean TemperatureC</th>\n",
       "      <th>Min TemperatureC</th>\n",
       "      <th>Dew PointC</th>\n",
       "      <th>MeanDew PointC</th>\n",
       "      <th>Min DewpointC</th>\n",
       "      <th>Max Humidity</th>\n",
       "      <th>Mean Humidity</th>\n",
       "      <th>Min Humidity</th>\n",
       "      <th>...</th>\n",
       "      <th>Max VisibilityKm</th>\n",
       "      <th>Mean VisibilityKm</th>\n",
       "      <th>Min VisibilitykM</th>\n",
       "      <th>Max Wind SpeedKm/h</th>\n",
       "      <th>Mean Wind SpeedKm/h</th>\n",
       "      <th>Max Gust SpeedKm/h</th>\n",
       "      <th>Precipitationmm</th>\n",
       "      <th>CloudCover</th>\n",
       "      <th>Events</th>\n",
       "      <th>WindDirDegrees</th>\n",
       "    </tr>\n",
       "    <tr>\n",
       "      <th>Date</th>\n",
       "      <th></th>\n",
       "      <th></th>\n",
       "      <th></th>\n",
       "      <th></th>\n",
       "      <th></th>\n",
       "      <th></th>\n",
       "      <th></th>\n",
       "      <th></th>\n",
       "      <th></th>\n",
       "      <th></th>\n",
       "      <th></th>\n",
       "      <th></th>\n",
       "      <th></th>\n",
       "      <th></th>\n",
       "      <th></th>\n",
       "      <th></th>\n",
       "      <th></th>\n",
       "      <th></th>\n",
       "      <th></th>\n",
       "      <th></th>\n",
       "      <th></th>\n",
       "    </tr>\n",
       "  </thead>\n",
       "  <tbody>\n",
       "    <tr>\n",
       "      <td>2014-07-30</td>\n",
       "      <td>2014-07-30</td>\n",
       "      <td>32</td>\n",
       "      <td>26</td>\n",
       "      <td>19</td>\n",
       "      <td>16</td>\n",
       "      <td>13</td>\n",
       "      <td>11</td>\n",
       "      <td>69</td>\n",
       "      <td>48</td>\n",
       "      <td>29</td>\n",
       "      <td>...</td>\n",
       "      <td>10.0</td>\n",
       "      <td>9.0</td>\n",
       "      <td>5.0</td>\n",
       "      <td>29</td>\n",
       "      <td>11</td>\n",
       "      <td>40.0</td>\n",
       "      <td>0.0</td>\n",
       "      <td>6.0</td>\n",
       "      <td>Rain</td>\n",
       "      <td>236.0</td>\n",
       "    </tr>\n",
       "    <tr>\n",
       "      <td>2014-08-02</td>\n",
       "      <td>2014-08-02</td>\n",
       "      <td>33</td>\n",
       "      <td>26</td>\n",
       "      <td>18</td>\n",
       "      <td>20</td>\n",
       "      <td>16</td>\n",
       "      <td>13</td>\n",
       "      <td>94</td>\n",
       "      <td>65</td>\n",
       "      <td>31</td>\n",
       "      <td>...</td>\n",
       "      <td>10.0</td>\n",
       "      <td>10.0</td>\n",
       "      <td>9.0</td>\n",
       "      <td>47</td>\n",
       "      <td>5</td>\n",
       "      <td>68.0</td>\n",
       "      <td>0.0</td>\n",
       "      <td>6.0</td>\n",
       "      <td>Rain-Thunderstorm</td>\n",
       "      <td>35.0</td>\n",
       "    </tr>\n",
       "  </tbody>\n",
       "</table>\n",
       "<p>2 rows × 23 columns</p>\n",
       "</div>"
      ],
      "text/plain": [
       "                 Date  Max TemperatureC  Mean TemperatureC  Min TemperatureC  \\\n",
       "Date                                                                           \n",
       "2014-07-30 2014-07-30                32                 26                19   \n",
       "2014-08-02 2014-08-02                33                 26                18   \n",
       "\n",
       "            Dew PointC  MeanDew PointC  Min DewpointC  Max Humidity  \\\n",
       "Date                                                                  \n",
       "2014-07-30          16              13             11            69   \n",
       "2014-08-02          20              16             13            94   \n",
       "\n",
       "            Mean Humidity  Min Humidity  ...  Max VisibilityKm  \\\n",
       "Date                                     ...                     \n",
       "2014-07-30             48            29  ...              10.0   \n",
       "2014-08-02             65            31  ...              10.0   \n",
       "\n",
       "            Mean VisibilityKm  Min VisibilitykM  Max Wind SpeedKm/h  \\\n",
       "Date                                                                  \n",
       "2014-07-30                9.0               5.0                  29   \n",
       "2014-08-02               10.0               9.0                  47   \n",
       "\n",
       "            Mean Wind SpeedKm/h  Max Gust SpeedKm/h  Precipitationmm  \\\n",
       "Date                                                                   \n",
       "2014-07-30                   11                40.0              0.0   \n",
       "2014-08-02                    5                68.0              0.0   \n",
       "\n",
       "            CloudCover             Events  WindDirDegrees  \n",
       "Date                                                       \n",
       "2014-07-30         6.0               Rain           236.0  \n",
       "2014-08-02         6.0  Rain-Thunderstorm            35.0  \n",
       "\n",
       "[2 rows x 23 columns]"
      ]
     },
     "execution_count": 8,
     "metadata": {},
     "output_type": "execute_result"
    }
   ],
   "source": [
    "summer[summer['Mean TemperatureC'] >= 25]"
   ]
  },
  {
   "cell_type": "markdown",
   "metadata": {},
   "source": [
    "In summer 2014 was rather cool in London: there are two days with temperatures of 25 Celsius or higher. Best to see a graph of the temperature and look for the warmest period.\n",
    "\n",
    "So next we tell Jupyter to display any graph created inside this notebook:"
   ]
  },
  {
   "cell_type": "code",
   "execution_count": 9,
   "metadata": {},
   "outputs": [],
   "source": [
    "%matplotlib inline"
   ]
  },
  {
   "cell_type": "markdown",
   "metadata": {
    "collapsed": true
   },
   "source": [
    "Now let's plot the `'Mean TemperatureC'` for the summer:"
   ]
  },
  {
   "cell_type": "code",
   "execution_count": 10,
   "metadata": {},
   "outputs": [
    {
     "data": {
      "text/plain": [
       "<matplotlib.axes._subplots.AxesSubplot at 0x2503648a8c8>"
      ]
     },
     "execution_count": 10,
     "metadata": {},
     "output_type": "execute_result"
    },
    {
     "data": {
      "image/png": "[encoded data removed]",
      "text/plain": [
       "<Figure size 720x360 with 1 Axes>"
      ]
     },
     "metadata": {
      "needs_background": "light"
     },
     "output_type": "display_data"
    }
   ],
   "source": [
    "summer['Mean TemperatureC'].plot(grid=True, figsize=(10,5))"
   ]
  },
  {
   "cell_type": "markdown",
   "metadata": {},
   "source": [
    "Well looking at the graph from the ending of July and begining of August looks good for mean temperatures over 20 degrees C so let's also put precipitation on the graph too:"
   ]
  },
  {
   "cell_type": "code",
   "execution_count": 11,
   "metadata": {},
   "outputs": [
    {
     "data": {
      "text/plain": [
       "<matplotlib.axes._subplots.AxesSubplot at 0x25036943a48>"
      ]
     },
     "execution_count": 11,
     "metadata": {},
     "output_type": "execute_result"
    },
    {
     "data": {
      "image/png": "[encoded data removed]",
      "text/plain": [
       "<Figure size 720x360 with 1 Axes>"
      ]
     },
     "metadata": {
      "needs_background": "light"
     },
     "output_type": "display_data"
    }
   ],
   "source": [
    "summer[['Mean TemperatureC', 'Precipitationmm']].plot(grid=True, figsize=(10,5))"
   ]
  },
  {
   "cell_type": "markdown",
   "metadata": {},
   "source": [
    "  The ending of July and begining of August is still looking good, with no sign of heavy rain. Let's have a closer look by just plotting mean temperature and precipitation for ending of July and begining of August.  "
   ]
  },
  {
   "cell_type": "code",
   "execution_count": 12,
   "metadata": {},
   "outputs": [
    {
     "data": {
      "text/plain": [
       "<matplotlib.axes._subplots.AxesSubplot at 0x250364bda48>"
      ]
     },
     "execution_count": 12,
     "metadata": {},
     "output_type": "execute_result"
    },
    {
     "data": {
      "image/png": "[encoded data removed]",
      "text/plain": [
       "<Figure size 720x360 with 1 Axes>"
      ]
     },
     "metadata": {
      "needs_background": "light"
     },
     "output_type": "display_data"
    }
   ],
   "source": [
    "julyAndAugust = summer.loc[datetime(2014,7,30) : datetime(2014,8,13)]\n",
    "julyAndAugust[['Mean TemperatureC', 'Precipitationmm']].plot(grid=True, figsize=(10,5))"
   ]
  },
  {
   "cell_type": "markdown",
   "metadata": {},
   "source": [
    "Yes, From the 30th of July to the 12th of August looks pretty good, without any significant rain, the 8th is just the only day when the mean temperature drops below 20 degrees."
   ]
  },
  {
   "cell_type": "markdown",
   "metadata": {
    "collapsed": true
   },
   "source": [
    "## Conclusions\n",
    "\n",
    "The graphs have shown the volatility of a Moscow summer, but from the 30th of July to the 12th of August the weather wasn't too bad in 2014. Of course this is no guarantee that the weather pattern will repeat itself in future years. To make a sensible prediction we would need to analyse the summers for many more years. "
   ]
  }
 ],
 "metadata": {
  "kernelspec": {
   "display_name": "Python 3",
   "language": "python",
   "name": "python3"
  },
  "language_info": {
   "codemirror_mode": {
    "name": "ipython",
    "version": 3
   },
   "file_extension": ".py",
   "mimetype": "text/x-python",
   "name": "python",
   "nbconvert_exporter": "python",
   "pygments_lexer": "ipython3",
   "version": "3.7.4"
  }
 },
 "nbformat": 4,
 "nbformat_minor": 1
}
